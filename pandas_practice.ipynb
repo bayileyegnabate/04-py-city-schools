{
 "cells": [
  {
   "cell_type": "code",
   "execution_count": 1,
   "id": "7710f79d",
   "metadata": {},
   "outputs": [],
   "source": [
    "import pandas as pd\n",
    "import os"
   ]
  },
  {
   "cell_type": "code",
   "execution_count": 4,
   "id": "cce22b2d",
   "metadata": {},
   "outputs": [],
   "source": [
    "# list of high schools\n",
    "high_schools = [\n",
    "    \"Hernandez High School\", \n",
    "    \"Figueroa High School\", \n",
    "    \"Willson High Scool\"\n",
    "]"
   ]
  },
  {
   "cell_type": "code",
   "execution_count": 5,
   "id": "e56cbdbe",
   "metadata": {},
   "outputs": [
    {
     "name": "stdout",
     "output_type": "stream",
     "text": [
      "Hernandez High School\n",
      "Figueroa High School\n",
      "Willson High Scool\n"
     ]
    }
   ],
   "source": [
    "for school in high_schools:\n",
    "    print(school)"
   ]
  },
  {
   "cell_type": "code",
   "execution_count": 8,
   "id": "dab98b49",
   "metadata": {},
   "outputs": [],
   "source": [
    "# a dictionary of high schools\n",
    "high_school_types = [\n",
    "    {\"High School\": \"Griffin\", \"Type\": \"District\"},\n",
    "    {\"High School\": \"Figueroa\", \"Type\": \"District\"},\n",
    "    {\"High School\": \"Willson\", \"Type\": \"Charter\"},\n",
    "    {\"High School\": \"Wright\", \"Type\": \"Charter\"}\n",
    "]"
   ]
  },
  {
   "cell_type": "code",
   "execution_count": 9,
   "id": "026d90a1",
   "metadata": {},
   "outputs": [
    {
     "name": "stdout",
     "output_type": "stream",
     "text": [
      "{'High School': 'Griffin', 'Type': 'District'}\n",
      "{'High School': 'Figueroa', 'Type': 'District'}\n",
      "{'High School': 'Willson', 'Type': 'Charter'}\n",
      "{'High School': 'Wright', 'Type': 'Charter'}\n"
     ]
    }
   ],
   "source": [
    "for school in high_school_types:\n",
    "    print(school)"
   ]
  },
  {
   "cell_type": "code",
   "execution_count": 10,
   "id": "8039a2e5",
   "metadata": {},
   "outputs": [
    {
     "data": {
      "text/plain": [
       "0    Hernandez High School\n",
       "1     Figueroa High School\n",
       "2        Willson High Scoo\n",
       "dtype: object"
      ]
     },
     "execution_count": 10,
     "metadata": {},
     "output_type": "execute_result"
    }
   ],
   "source": [
    "# create a pandas Series from a Python list\n",
    "school_series = pd.Series(high_scholls)\n",
    "school_series"
   ]
  },
  {
   "cell_type": "code",
   "execution_count": 12,
   "id": "50294f5a",
   "metadata": {},
   "outputs": [],
   "source": [
    "# a dictionary of high schools\n",
    "high_shcool_dicts = [\n",
    "    {\"School Id\": 0, \"school_name\": \"Huang High School\", \"type\": \"Dicstricr\"},\n",
    "    {\"School Id\": 1, \"school_name\": \"Figueroa High School\", \"type\": \"Dicstricr\"},\n",
    "    {\"School Id\": 2, \"school_name\": \"Shelton High School\", \"type\": \"charter\"},\n",
    "    {\"School Id\": 3, \"school_name\": \"Hernandez High School\", \"type\": \"Dicstricr\"},\n",
    "    {\"School Id\": 4, \"school_name\": \"Griffin High School\", \"type\": \"Charter\"},\n",
    "]"
   ]
  },
  {
   "cell_type": "code",
   "execution_count": 13,
   "id": "2e84fe64",
   "metadata": {},
   "outputs": [
    {
     "data": {
      "text/html": [
       "<div>\n",
       "<style scoped>\n",
       "    .dataframe tbody tr th:only-of-type {\n",
       "        vertical-align: middle;\n",
       "    }\n",
       "\n",
       "    .dataframe tbody tr th {\n",
       "        vertical-align: top;\n",
       "    }\n",
       "\n",
       "    .dataframe thead th {\n",
       "        text-align: right;\n",
       "    }\n",
       "</style>\n",
       "<table border=\"1\" class=\"dataframe\">\n",
       "  <thead>\n",
       "    <tr style=\"text-align: right;\">\n",
       "      <th></th>\n",
       "      <th>School Id</th>\n",
       "      <th>school_name</th>\n",
       "      <th>type</th>\n",
       "    </tr>\n",
       "  </thead>\n",
       "  <tbody>\n",
       "    <tr>\n",
       "      <th>0</th>\n",
       "      <td>0</td>\n",
       "      <td>Huang High School</td>\n",
       "      <td>Dicstricr</td>\n",
       "    </tr>\n",
       "    <tr>\n",
       "      <th>1</th>\n",
       "      <td>1</td>\n",
       "      <td>Figueroa High School</td>\n",
       "      <td>Dicstricr</td>\n",
       "    </tr>\n",
       "    <tr>\n",
       "      <th>2</th>\n",
       "      <td>2</td>\n",
       "      <td>Shelton High School</td>\n",
       "      <td>charter</td>\n",
       "    </tr>\n",
       "    <tr>\n",
       "      <th>3</th>\n",
       "      <td>3</td>\n",
       "      <td>Hernandez High School</td>\n",
       "      <td>Dicstricr</td>\n",
       "    </tr>\n",
       "    <tr>\n",
       "      <th>4</th>\n",
       "      <td>4</td>\n",
       "      <td>Griffin High School</td>\n",
       "      <td>Charter</td>\n",
       "    </tr>\n",
       "  </tbody>\n",
       "</table>\n",
       "</div>"
      ],
      "text/plain": [
       "   School Id            school_name       type\n",
       "0          0      Huang High School  Dicstricr\n",
       "1          1   Figueroa High School  Dicstricr\n",
       "2          2    Shelton High School    charter\n",
       "3          3  Hernandez High School  Dicstricr\n",
       "4          4    Griffin High School    Charter"
      ]
     },
     "execution_count": 13,
     "metadata": {},
     "output_type": "execute_result"
    }
   ],
   "source": [
    "# DataFrame\n",
    "school_df = pd.DataFrame(high_shcool_dicts)\n",
    "school_df"
   ]
  },
  {
   "cell_type": "code",
   "execution_count": 14,
   "id": "add22cd7",
   "metadata": {},
   "outputs": [
    {
     "data": {
      "text/plain": [
       "Index(['School Id', 'school_name', 'type'], dtype='object')"
      ]
     },
     "execution_count": 14,
     "metadata": {},
     "output_type": "execute_result"
    }
   ],
   "source": [
    "# index, columns, and values of a DataFrame\n",
    "school_df.columns"
   ]
  },
  {
   "cell_type": "code",
   "execution_count": 15,
   "id": "41e6e9d7",
   "metadata": {},
   "outputs": [
    {
     "data": {
      "text/plain": [
       "RangeIndex(start=0, stop=5, step=1)"
      ]
     },
     "execution_count": 15,
     "metadata": {},
     "output_type": "execute_result"
    }
   ],
   "source": [
    "school_df.index"
   ]
  },
  {
   "cell_type": "code",
   "execution_count": 16,
   "id": "15c82d08",
   "metadata": {},
   "outputs": [
    {
     "data": {
      "text/plain": [
       "array([[0, 'Huang High School', 'Dicstricr'],\n",
       "       [1, 'Figueroa High School', 'Dicstricr'],\n",
       "       [2, 'Shelton High School', 'charter'],\n",
       "       [3, 'Hernandez High School', 'Dicstricr'],\n",
       "       [4, 'Griffin High School', 'Charter']], dtype=object)"
      ]
     },
     "execution_count": 16,
     "metadata": {},
     "output_type": "execute_result"
    }
   ],
   "source": [
    "school_df.values"
   ]
  },
  {
   "cell_type": "code",
   "execution_count": 17,
   "id": "89ad388e",
   "metadata": {},
   "outputs": [
    {
     "data": {
      "text/plain": [
       "array([4, 'Griffin High School', 'Charter'], dtype=object)"
      ]
     },
     "execution_count": 17,
     "metadata": {},
     "output_type": "execute_result"
    }
   ],
   "source": [
    "school_df.values[-1]"
   ]
  },
  {
   "cell_type": "code",
   "execution_count": 21,
   "id": "e344988a",
   "metadata": {},
   "outputs": [
    {
     "name": "stdout",
     "output_type": "stream",
     "text": [
      "Name of High Schools:\n",
      "--------------------\n",
      "HUANG\n",
      "FIGUEROA\n",
      "SHELTON\n",
      "HERNANDEZ\n",
      "GRIFFIN\n"
     ]
    }
   ],
   "source": [
    "print('Name of High Schools:\\n--------------------')\n",
    "for value in school_df.values:\n",
    "    print(value[1].split()[0].upper())"
   ]
  },
  {
   "cell_type": "code",
   "execution_count": 22,
   "id": "ea4b9cd9",
   "metadata": {},
   "outputs": [
    {
     "data": {
      "text/plain": [
       "[0, 1, 2, 3, 4, 5, 6, 7, 8, 9, 10, 11, 12, 13, 14]"
      ]
     },
     "execution_count": 22,
     "metadata": {},
     "output_type": "execute_result"
    }
   ],
   "source": [
    "school_id = list(range(15))\n",
    "school_id"
   ]
  },
  {
   "cell_type": "code",
   "execution_count": 24,
   "id": "c4b965c5",
   "metadata": {},
   "outputs": [
    {
     "data": {
      "text/plain": [
       "['Huang High School',\n",
       " 'Gigueroa High School',\n",
       " 'Shelton High School',\n",
       " 'Hernandez High School',\n",
       " 'Griffin High School',\n",
       " 'Wilson High School',\n",
       " 'Cabrera High School',\n",
       " 'Bailey High School',\n",
       " 'Holden High School',\n",
       " 'Pena High School',\n",
       " 'Wright High School',\n",
       " 'Rodreguez High School',\n",
       " 'Johnson High School',\n",
       " 'Ford High School',\n",
       " 'Thomas High School']"
      ]
     },
     "execution_count": 24,
     "metadata": {},
     "output_type": "execute_result"
    }
   ],
   "source": [
    "hs = ['Huang', 'Gigueroa', 'Shelton', 'Hernandez', 'Griffin', 'Wilson', 'Cabrera', \n",
    "      'Bailey','Holden', 'Pena', 'Wright', 'Rodreguez', 'Johnson', 'Ford', 'Thomas']\n",
    "school_name = [school + ' High School' for school in hs]\n",
    "school_name"
   ]
  },
  {
   "cell_type": "code",
   "execution_count": 25,
   "id": "c555cacd",
   "metadata": {
    "collapsed": true
   },
   "outputs": [
    {
     "data": {
      "text/plain": [
       "['District',\n",
       " 'District',\n",
       " 'Charter',\n",
       " 'District',\n",
       " 'Charter',\n",
       " 'Charter',\n",
       " 'Charter',\n",
       " 'District',\n",
       " 'Charter',\n",
       " 'Charter',\n",
       " 'Charter',\n",
       " 'District',\n",
       " 'District',\n",
       " 'District',\n",
       " 'Charter']"
      ]
     },
     "execution_count": 25,
     "metadata": {},
     "output_type": "execute_result"
    }
   ],
   "source": [
    "school_type = ['District', 'District', 'Charter', 'District', 'Charter', 'Charter',\n",
    "               'Charter', 'District', 'Charter', 'Charter', 'Charter', 'District',\n",
    "              'District', 'District', 'Charter']\n",
    "school_type"
   ]
  },
  {
   "cell_type": "code",
   "execution_count": 38,
   "id": "a85d1096",
   "metadata": {},
   "outputs": [
    {
     "data": {
      "text/html": [
       "<div>\n",
       "<style scoped>\n",
       "    .dataframe tbody tr th:only-of-type {\n",
       "        vertical-align: middle;\n",
       "    }\n",
       "\n",
       "    .dataframe tbody tr th {\n",
       "        vertical-align: top;\n",
       "    }\n",
       "\n",
       "    .dataframe thead th {\n",
       "        text-align: right;\n",
       "    }\n",
       "</style>\n",
       "<table border=\"1\" class=\"dataframe\">\n",
       "  <thead>\n",
       "    <tr style=\"text-align: right;\">\n",
       "      <th></th>\n",
       "      <th>school_id</th>\n",
       "      <th>school_name</th>\n",
       "      <th>school_type</th>\n",
       "    </tr>\n",
       "  </thead>\n",
       "  <tbody>\n",
       "    <tr>\n",
       "      <th>0</th>\n",
       "      <td>0</td>\n",
       "      <td>Huang High School</td>\n",
       "      <td>District</td>\n",
       "    </tr>\n",
       "    <tr>\n",
       "      <th>1</th>\n",
       "      <td>1</td>\n",
       "      <td>Gigueroa High School</td>\n",
       "      <td>District</td>\n",
       "    </tr>\n",
       "  </tbody>\n",
       "</table>\n",
       "</div>"
      ],
      "text/plain": [
       "   school_id           school_name school_type\n",
       "0          0     Huang High School    District\n",
       "1          1  Gigueroa High School    District"
      ]
     },
     "execution_count": 38,
     "metadata": {},
     "output_type": "execute_result"
    }
   ],
   "source": [
    "hs_df = pd.DataFrame(\n",
    "    {\n",
    "        'school_id': school_id, \n",
    "        'school_name': school_name,\n",
    "        'school_type': school_type\n",
    "    }\n",
    ")\n",
    "hs_df.head(2)"
   ]
  },
  {
   "cell_type": "markdown",
   "id": "2682b873",
   "metadata": {},
   "source": [
    "### OOP"
   ]
  },
  {
   "cell_type": "code",
   "execution_count": 39,
   "id": "bee679d0",
   "metadata": {},
   "outputs": [],
   "source": [
    "class Cat:\n",
    "    def __init__(self, name):\n",
    "        self.name = name"
   ]
  },
  {
   "cell_type": "code",
   "execution_count": 41,
   "id": "b36bf094",
   "metadata": {},
   "outputs": [
    {
     "data": {
      "text/plain": [
       "'Felix'"
      ]
     },
     "execution_count": 41,
     "metadata": {},
     "output_type": "execute_result"
    }
   ],
   "source": [
    "first_cat = Cat('Felix')\n",
    "first_cat.name"
   ]
  },
  {
   "cell_type": "code",
   "execution_count": 49,
   "id": "d41bc7fe",
   "metadata": {},
   "outputs": [],
   "source": [
    "class Dog:\n",
    "    def __init__(self, name, color, sound):\n",
    "        self.name = name\n",
    "        self.color = color\n",
    "        self.sound = sound\n",
    "        \n",
    "    def bark(self):\n",
    "        return self.sound + ' ' + self.sound\n",
    "    \n",
    "    def say_hello(self):\n",
    "        print(f'Hello from {self.name}')"
   ]
  },
  {
   "cell_type": "code",
   "execution_count": 50,
   "id": "00dc1899",
   "metadata": {},
   "outputs": [
    {
     "data": {
      "text/plain": [
       "'Alx'"
      ]
     },
     "execution_count": 50,
     "metadata": {},
     "output_type": "execute_result"
    }
   ],
   "source": [
    "new_dog = Dog('Alx', 'brown', 'woof')\n",
    "new_dog.name"
   ]
  },
  {
   "cell_type": "code",
   "execution_count": 48,
   "id": "0bba61fe",
   "metadata": {},
   "outputs": [
    {
     "data": {
      "text/plain": [
       "'woof woof'"
      ]
     },
     "execution_count": 48,
     "metadata": {},
     "output_type": "execute_result"
    }
   ],
   "source": [
    "new_dog.bark()"
   ]
  },
  {
   "cell_type": "code",
   "execution_count": 51,
   "id": "770ebe8d",
   "metadata": {},
   "outputs": [
    {
     "name": "stdout",
     "output_type": "stream",
     "text": [
      "Hello from Alx\n"
     ]
    }
   ],
   "source": [
    "new_dog.say_hello()"
   ]
  },
  {
   "cell_type": "code",
   "execution_count": null,
   "id": "0378d310",
   "metadata": {},
   "outputs": [],
   "source": []
  }
 ],
 "metadata": {
  "kernelspec": {
   "display_name": "pythonData",
   "language": "python",
   "name": "pythondata"
  },
  "language_info": {
   "codemirror_mode": {
    "name": "ipython",
    "version": 3
   },
   "file_extension": ".py",
   "mimetype": "text/x-python",
   "name": "python",
   "nbconvert_exporter": "python",
   "pygments_lexer": "ipython3",
   "version": "3.9.7"
  }
 },
 "nbformat": 4,
 "nbformat_minor": 5
}
